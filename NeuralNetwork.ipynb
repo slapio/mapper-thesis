{
 "cells": [
  {
   "cell_type": "code",
   "execution_count": null,
   "metadata": {},
   "outputs": [],
   "source": [
    "import mnist_loader"
   ]
  },
  {
   "cell_type": "code",
   "execution_count": null,
   "metadata": {},
   "outputs": [],
   "source": [
    "import numpy as np"
   ]
  },
  {
   "cell_type": "code",
   "execution_count": null,
   "metadata": {},
   "outputs": [],
   "source": [
    "import network"
   ]
  },
  {
   "cell_type": "code",
   "execution_count": null,
   "metadata": {},
   "outputs": [],
   "source": [
    "training_data, validation_data, test_data = mnist_loader.load_data_wrapper()"
   ]
  },
  {
   "cell_type": "code",
   "execution_count": null,
   "metadata": {},
   "outputs": [],
   "source": [
    "net = network.Network([784, 30, 10])"
   ]
  },
  {
   "cell_type": "code",
   "execution_count": 8,
   "metadata": {},
   "outputs": [
    {
     "name": "stdout",
     "output_type": "stream",
     "text": [
      "Epoch 0: 9107 / 10000\n",
      "Epoch 1: 9208 / 10000\n",
      "Epoch 2: 9358 / 10000\n",
      "Epoch 3: 9351 / 10000\n",
      "Epoch 4: 9364 / 10000\n",
      "Epoch 5: 9399 / 10000\n",
      "Epoch 6: 9436 / 10000\n",
      "Epoch 7: 9439 / 10000\n",
      "Epoch 8: 9432 / 10000\n",
      "Epoch 9: 9419 / 10000\n",
      "Epoch 10: 9477 / 10000\n",
      "Epoch 11: 9462 / 10000\n",
      "Epoch 12: 9487 / 10000\n",
      "Epoch 13: 9462 / 10000\n",
      "Epoch 14: 9474 / 10000\n",
      "Epoch 15: 9497 / 10000\n",
      "Epoch 16: 9494 / 10000\n",
      "Epoch 17: 9481 / 10000\n",
      "Epoch 18: 9501 / 10000\n",
      "Epoch 19: 9539 / 10000\n",
      "Epoch 20: 9490 / 10000\n",
      "Epoch 21: 9502 / 10000\n",
      "Epoch 22: 9505 / 10000\n",
      "Epoch 23: 9501 / 10000\n",
      "Epoch 24: 9520 / 10000\n",
      "Epoch 25: 9513 / 10000\n",
      "Epoch 26: 9532 / 10000\n",
      "Epoch 27: 9505 / 10000\n",
      "Epoch 28: 9509 / 10000\n",
      "Epoch 29: 9487 / 10000\n"
     ]
    }
   ],
   "source": [
    "net.SGD(training_data, 30, 10, 3.0, test_data=test_data)"
   ]
  },
  {
   "cell_type": "code",
   "execution_count": null,
   "metadata": {},
   "outputs": [],
   "source": [
    "results = net.predict(test_data)"
   ]
  },
  {
   "cell_type": "code",
   "execution_count": null,
   "metadata": {},
   "outputs": [],
   "source": [
    "arr = np.array(results)"
   ]
  },
  {
   "cell_type": "code",
   "execution_count": null,
   "metadata": {},
   "outputs": [],
   "source": [
    "arr = arr.flatten().tolist()"
   ]
  },
  {
   "cell_type": "code",
   "execution_count": null,
   "metadata": {},
   "outputs": [],
   "source": [
    "final = [arr[i * 10:(i + 1) * 10] for i in range((len(arr) + 10 - 1) // 10 )]"
   ]
  },
  {
   "cell_type": "code",
   "execution_count": null,
   "metadata": {},
   "outputs": [],
   "source": [
    "output = np.array(final)"
   ]
  },
  {
   "cell_type": "code",
   "execution_count": null,
   "metadata": {},
   "outputs": [],
   "source": [
    "np.savetxt(\"output.csv\", output, delimiter=\",\")"
   ]
  },
  {
   "cell_type": "code",
   "execution_count": null,
   "metadata": {},
   "outputs": [],
   "source": [
    "import scipy.misc"
   ]
  },
  {
   "cell_type": "code",
   "execution_count": null,
   "metadata": {},
   "outputs": [],
   "source": [
    "for i, (image , label) in enumerate(test_data):\n",
    "    image = image.reshape(28,28)\n",
    "    scipy.misc.imsave(str(i)+'.jpg', image)"
   ]
  },
  {
   "cell_type": "code",
   "execution_count": null,
   "metadata": {},
   "outputs": [],
   "source": [
    "tr_d, va_d, te_d = mnist_loader.load_data()"
   ]
  },
  {
   "cell_type": "code",
   "execution_count": null,
   "metadata": {},
   "outputs": [],
   "source": [
    "test_results = [y for y in te_d[1]]"
   ]
  },
  {
   "cell_type": "code",
   "execution_count": null,
   "metadata": {},
   "outputs": [],
   "source": [
    "test_results"
   ]
  },
  {
   "cell_type": "code",
   "execution_count": null,
   "metadata": {},
   "outputs": [],
   "source": [
    "labels = test_results"
   ]
  },
  {
   "cell_type": "code",
   "execution_count": null,
   "metadata": {},
   "outputs": [],
   "source": [
    "np.savetxt(\"labels.csv\", labels, delimiter=\",\")"
   ]
  }
 ],
 "metadata": {
  "kernelspec": {
   "display_name": "Python [conda env:py27]",
   "language": "python",
   "name": "conda-env-py27-py"
  },
  "language_info": {
   "codemirror_mode": {
    "name": "ipython",
    "version": 2
   },
   "file_extension": ".py",
   "mimetype": "text/x-python",
   "name": "python",
   "nbconvert_exporter": "python",
   "pygments_lexer": "ipython2",
   "version": "2.7.16"
  }
 },
 "nbformat": 4,
 "nbformat_minor": 2
}
